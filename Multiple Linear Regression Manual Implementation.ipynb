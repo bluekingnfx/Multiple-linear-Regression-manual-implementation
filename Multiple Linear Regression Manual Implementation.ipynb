{
 "cells": [
  {
   "attachments": {},
   "cell_type": "markdown",
   "metadata": {},
   "source": [
    "# Under the hood of Multiple Linear Regression (MLR)"
   ]
  },
  {
   "attachments": {},
   "cell_type": "markdown",
   "metadata": {},
   "source": [
    "## **Formulas used**\n",
    "\n",
    "> ### Regression Equation\n",
    ">\n",
    "> $y = b_0 + \\sum^{n}_{i=1}{b_i \\times x_i} + e$\n",
    ">\n",
    "> - $b_0$: Intercept of regression model\n",
    "> \n",
    "> - $x_i$: $i^{th}$ feature(or predictor) of model\n",
    "> \n",
    "> - $b_i$: Regression coefficient of $x_i$\n",
    "> \n",
    "> - e is the error (Sum of squared error)\n"
   ]
  },
  {
   "attachments": {},
   "cell_type": "markdown",
   "metadata": {},
   "source": [
    "#### In multiple linear regression the coefficients are calculated by matrices"
   ]
  },
  {
   "attachments": {},
   "cell_type": "markdown",
   "metadata": {},
   "source": [
    "> ### Regression coefficients matrix.\n",
    "> \n",
    "> $b = (X^TX)^{-1}X^TY$\n",
    "> \n",
    "> - X is design matrix.\n",
    "> \n",
    "> - $X^T$ is transpose of the design matrix\n",
    "> \n",
    "> - Y is the Response matrix\n",
    "> \n",
    "> - b is the **Regression coefficients matrix**\n",
    "\n",
    "_**Definitions**_:\n",
    "\n",
    "Design matrix is matrix of predictor columns prepended by the constant column\n",
    "\n",
    "A transpose matrix is an array or matrix created by interchanging the rows and columns of an original matrix. It is denoted by $A^T$.\n",
    "\n",
    "The inverse of a matrix is another matrix that, when multiplied by the given matrix, produces the identity matrix(Matrices of 0s and 1s).\n",
    "\n",
    "$A^{-1}=\\frac{1}{\\det(A)}\\text{adj}(A)$\n",
    "\n",
    "$AA^{-1}=A^{-1}A=I$\n",
    "\n",
    "\n",
    "\n",
    "\n"
   ]
  },
  {
   "attachments": {},
   "cell_type": "markdown",
   "metadata": {},
   "source": [
    "### Finding p values of regression coefficients involves calculating T-Statistic  "
   ]
  },
  {
   "attachments": {},
   "cell_type": "markdown",
   "metadata": {},
   "source": [
    "> ### T-static of regression coefficients\n",
    "> \n",
    "> $\\sum_{i=0}^{n}{T_i = \\frac{b_i}{S_{bi}}}$\n",
    ">\n",
    "> - $S_{bi}$ : Standard error of the slope $b_i$\n",
    "> \n",
    "> ### $S_{b_i}$ of regression of coefficients\n",
    "> \n",
    "> $S_{bi} = \\sqrt{MSE * (XX^T)^{-1}}$\n",
    ">\n",
    "> - MSE: Mean square error or average of sum of residual error\n",
    "> \n",
    "> - $(XX^T)^{-1}$: Covariance matrix\n",
    ">\n",
    "> - **Diagonal of covariance matrices are non-negative(or whole numbers) corresponds to the standard error of slopes**\n",
    ">\n",
    "> ### To calculate MSE\n",
    ">\n",
    "> MSE = $\\frac{SSE}{(n - k - 1)}$\n",
    ">\n",
    "> - SSE: Sum of squared errors or Sum of squared **Residuals** or Variance of each point from its regression point.\n",
    ">\n",
    "> - n: No of samples (rows in the dataset)\n",
    ">\n",
    "> - k: No of features (Not including intercept)\n",
    ">\n",
    "> ### To calculate SSE (Sum of squared Residuals)\n",
    ">\n",
    "> SSE = $\\sum_{i=0}^{n}{(y_i - \\hat{y_i})}$\n",
    ">\n",
    "> - $y_i$ each ith(each) data point in the response variable\n",
    "> \n",
    "> - $\\hat{y_i}$ is the predicted value of $y_i$ obtained by substituting $x_i$ and $b_i$ in regression equation.\n",
    "\n",
    "\n"
   ]
  },
  {
   "attachments": {},
   "cell_type": "markdown",
   "metadata": {},
   "source": [
    "P values considering hypothesis testing \n",
    "\n",
    "$H_0$ : Population regression coefficient $(\\beta)$ = 0 such that no linear relationship(as x varies y also varies)\n",
    "\n",
    "$H_a$ : $\\beta \\ne 0$ suggesting as x varies y also varying"
   ]
  },
  {
   "attachments": {},
   "cell_type": "markdown",
   "metadata": {},
   "source": [
    "- Indicating Two tailed test from symbol of alternate hypothesis. \n",
    "\n",
    "- The difference in the p value of -b and b gives the total probability which tested against chosen significance level(say 0.05 or 5%). \n",
    "\n",
    "\n"
   ]
  },
  {
   "attachments": {},
   "cell_type": "markdown",
   "metadata": {},
   "source": [
    "Example:\n",
    "\n",
    "Say the t statistic of slope A is **-4.342** and degrees of freedom is 10\n",
    "\n",
    "Need to find the probability associated with -4.342 and 10 DOF from t table or ``scipy.stats.t.cdf(-4.342,10)``which is the left tail(probability to the left). \n",
    "\n",
    "To find right tail one can just take ``1 - scipy.stats.t.cdf(4.342,10)``(probability to right) will give the right tail. To get p desired p value is ``scipy.stats.t.cdf(-4.342,10)`` + ``1 - scipy.stats.t.cdf(4.342,10)``\n",
    "\n",
    "`scipy.stats.t.cdf(-4.342,10)` and `1 - scipy.stats.t.cdf(4.342,10)` will be same because the t-distribution is symmetrical.\n",
    "\n",
    "Given the inference symmetrical, one can ``(1 - scipy.stats.t.cdf(abs(-4.342),10))*2``\n",
    "\n"
   ]
  },
  {
   "attachments": {},
   "cell_type": "markdown",
   "metadata": {},
   "source": [
    "```py\n",
    "#Try\n",
    "import scipy \n",
    "print(scipy.stats.t.cdf(-4.342,10) + (1- scipy.stats.t.cdf(4.342,10)),(1 - scipy.stats.t.cdf(abs(-4.342),10))*2)\n",
    "```"
   ]
  },
  {
   "attachments": {},
   "cell_type": "markdown",
   "metadata": {},
   "source": [
    "> ### Calculation of $R^2$\n",
    "> \n",
    "> $R^2 = 1 - \\frac{SSE}{TSS}$\n",
    "> \n",
    "> $R^2 = \\frac{SSR}{TSS}$ \n",
    ">\n",
    "> - TSS: Total sum of squares\n",
    "> \n",
    "> - SSR: Sum of squares of Regression (or amount of variability in y explained by regression line)\n",
    ">\n",
    "> ### To calculate TSS\n",
    ">\n",
    "> $TSS = \\sum_{i=0}^{n}{y_i - \\bar{y}}$\n",
    ">\n",
    "> - $y_i$ is the ith data point of i and y is the mean of y. It explains the total variability of points explained by mean of y. (Worst case)\n",
    "> \n",
    "> - $\\bar{y}$ mean of y.\n",
    ">\n",
    "> ### To calculate the adjusted $R^2$\n",
    ">\n",
    "> $Adjusted \\space R^2 = 1 - \\frac{(n-2)(1 - R^2)}{n - k - 1}$\n",
    ">\n",
    "> - If any predictor in the model does not impact the model can addressed the adjacent r-squared\n",
    ">\n",
    "> - The adjusted R-squared value takes into account the number of predictors in the model and adjusts the R-squared value accordingly"
   ]
  },
  {
   "attachments": {},
   "cell_type": "markdown",
   "metadata": {},
   "source": [
    "Made with ❤️"
   ]
  },
  {
   "attachments": {},
   "cell_type": "markdown",
   "metadata": {},
   "source": [
    "---"
   ]
  },
  {
   "attachments": {},
   "cell_type": "markdown",
   "metadata": {},
   "source": [
    "Import statements"
   ]
  },
  {
   "cell_type": "code",
   "execution_count": 11,
   "metadata": {},
   "outputs": [],
   "source": [
    "import numpy as np\n",
    "import pandas as pd\n",
    "from scipy.stats import t"
   ]
  },
  {
   "attachments": {},
   "cell_type": "markdown",
   "metadata": {},
   "source": [
    "Producing random matrices X and Y"
   ]
  },
  {
   "cell_type": "code",
   "execution_count": 12,
   "metadata": {},
   "outputs": [],
   "source": [
    "np.random.seed(10)\n",
    "X = np.random.randint(1,20,(100,2))\n",
    "Y = np.random.randint(1,100,(100,1))"
   ]
  },
  {
   "attachments": {},
   "cell_type": "markdown",
   "metadata": {},
   "source": [
    "Adding constant of columns of 1 in order to get coefficient directly from design matrix and obtain results similar to OLS from Statsmodels and sklearn"
   ]
  },
  {
   "cell_type": "code",
   "execution_count": 13,
   "metadata": {},
   "outputs": [],
   "source": [
    "X = np.insert(X,0,1,axis = 1)"
   ]
  },
  {
   "attachments": {},
   "cell_type": "markdown",
   "metadata": {},
   "source": [
    "$X^TX$"
   ]
  },
  {
   "cell_type": "code",
   "execution_count": 14,
   "metadata": {},
   "outputs": [
    {
     "data": {
      "text/plain": [
       "array([[  100,  1070,  1099],\n",
       "       [ 1070, 14504, 12227],\n",
       "       [ 1099, 12227, 14833]])"
      ]
     },
     "execution_count": 14,
     "metadata": {},
     "output_type": "execute_result"
    }
   ],
   "source": [
    "X_trans = np.transpose(X)\n",
    "XX_trans = np.matmul(X_trans,X)\n",
    "XX_trans"
   ]
  },
  {
   "attachments": {},
   "cell_type": "markdown",
   "metadata": {},
   "source": [
    "$(X^TX)^-1$"
   ]
  },
  {
   "cell_type": "code",
   "execution_count": 15,
   "metadata": {},
   "outputs": [
    {
     "data": {
      "text/plain": [
       "array([[ 8.00686697e-02, -2.96890812e-03, -3.48510945e-03],\n",
       "       [-2.96890812e-03,  3.36066556e-04, -5.70522319e-05],\n",
       "       [-3.48510945e-03, -5.70522319e-05,  3.72663178e-04]])"
      ]
     },
     "execution_count": 15,
     "metadata": {},
     "output_type": "execute_result"
    }
   ],
   "source": [
    "InvXX_trans = np.linalg.inv(XX_trans)\n",
    "InvXX_trans"
   ]
  },
  {
   "attachments": {},
   "cell_type": "markdown",
   "metadata": {},
   "source": [
    "Information matrix \n",
    " - $((X^TX)^-1)X^T$"
   ]
  },
  {
   "cell_type": "code",
   "execution_count": 16,
   "metadata": {},
   "outputs": [
    {
     "data": {
      "text/plain": [
       "array([[ 3.29540413e-02,  2.90810303e-02, -3.26185371e-02,\n",
       "        -4.73766149e-03,  4.68944790e-02,  1.60446954e-02,\n",
       "         5.97726853e-03,  9.46237797e-03,  2.62045890e-03,\n",
       "         4.27648685e-02,  1.29474874e-02, -2.21632087e-02,\n",
       "         1.34636887e-02, -6.80246679e-03,  5.67053062e-02,\n",
       "        -2.51321168e-02,  6.10556835e-03, -5.38216264e-03,\n",
       "        -3.55874452e-02,  1.44960914e-02, -2.56483182e-02,\n",
       "         1.44960914e-02,  7.06457440e-02,  2.05622075e-02,\n",
       "         3.73432535e-02, -2.16470074e-02,  3.97959603e-02,\n",
       "        -1.62253925e-02,  8.17037364e-03,  5.58936702e-03,\n",
       "        -1.57091912e-02,  1.43677916e-02, -1.27402830e-02,\n",
       "         1.50122927e-02, -3.31735734e-03,  7.91377400e-03,\n",
       "         7.13797099e-03,  2.94689318e-02,  1.08826821e-02,\n",
       "         8.94617665e-03, -3.55874452e-02, -2.02267032e-02,\n",
       "        -3.95887559e-02, -2.37118127e-02, -1.53212896e-02,\n",
       "         1.43677916e-02, -8.86727208e-03,  5.07316570e-03,\n",
       "        -3.90725546e-02, -3.26185371e-02,  5.61891049e-02,\n",
       "         4.68944790e-02,  5.58012034e-02,  5.72215076e-02,\n",
       "         1.97595776e-03, -3.31735734e-03, -1.91943006e-02,\n",
       "        -1.82901978e-02,  2.04339076e-02,  3.23095401e-02,\n",
       "         5.61891049e-02,  1.90136035e-02,  2.04339076e-02,\n",
       "         1.65608967e-02,  2.19825116e-02, -1.37726857e-02,\n",
       "        -2.21632087e-02,  4.34093696e-02,  3.73432535e-02,\n",
       "         2.14663103e-02,  5.28322953e-02,  3.33419428e-02,\n",
       "         2.40473169e-02,  7.00967117e-03,  1.25595859e-02,\n",
       "         6.41917265e-02,  2.23255740e-03, -1.38085187e-03,\n",
       "         2.35311156e-02, -2.66807208e-02,  3.69553520e-02,\n",
       "         1.07185493e-03,  5.61891049e-02, -2.77131235e-02,\n",
       "        -3.55874452e-02,  3.45026452e-02, -4.34975999e-03,\n",
       "         2.74875872e-03,  2.84365292e-02,  8.17037364e-03,\n",
       "         6.62176967e-03,  2.01743059e-02,  2.40473169e-02,\n",
       "        -1.32564844e-02,  4.08283630e-02,  1.25595859e-02,\n",
       "        -1.77739964e-02,  4.08283630e-02,  1.90136035e-02,\n",
       "        -1.22240817e-02],\n",
       "       [ 1.06496280e-04,  2.35110454e-03,  2.11040195e-03,\n",
       "         2.56681980e-03,  3.34705207e-04,  2.14353908e-04,\n",
       "        -2.25846328e-03, -2.20141105e-03,  3.79263769e-04,\n",
       "        -2.81024510e-03, -2.14435882e-03,  2.28155864e-03,\n",
       "        -1.75124003e-03,  9.94344649e-04, -2.58203617e-03,\n",
       "         2.61762520e-03,  4.36316001e-04, -5.21078271e-04,\n",
       "         2.44646850e-03, -9.65002456e-04,  2.22450641e-03,\n",
       "        -9.65002456e-04, -2.35382724e-03,  1.05764372e-03,\n",
       "        -1.74499320e-03,  2.67467743e-03, -2.47417854e-03,\n",
       "         1.60942553e-03,  2.00879115e-03,  4.31972126e-05,\n",
       "         2.00254432e-03, -3.65978174e-03,  1.66647776e-03,\n",
       "        -5.71883668e-04,  1.05139688e-03, -3.38076742e-03,\n",
       "         1.22255358e-03,  4.94440478e-05, -3.71683397e-03,\n",
       "        -2.59452984e-03,  2.44646850e-03,  1.15925451e-03,\n",
       "         1.99629748e-03,  1.10220228e-03, -2.99116179e-04,\n",
       "        -3.65978174e-03, -5.78130503e-04, -3.49921575e-04,\n",
       "         2.38941627e-03,  2.11040195e-03, -2.97515496e-03,\n",
       "         3.34705207e-04, -6.73494461e-04, -2.18891738e-03,\n",
       "        -2.70863430e-03,  1.05139688e-03,  1.94549209e-03,\n",
       "         3.69503775e-05, -1.63713557e-03, -2.98140179e-03,\n",
       "        -2.97515496e-03, -1.21712648e-04, -1.63713557e-03,\n",
       "         6.07472696e-04, -4.57779204e-04,  8.80240185e-04,\n",
       "         2.28155864e-03,  2.77652975e-04, -1.74499320e-03,\n",
       "        -8.50897992e-04, -3.37427905e-04, -2.19516422e-03,\n",
       "         1.11469595e-03, -1.47222571e-03,  1.57301676e-04,\n",
       "        -2.07481292e-03,  2.68092426e-03, -7.09072511e-05,\n",
       "         7.21577160e-04,  1.43826883e-03,  5.56667299e-04,\n",
       "        -8.00092595e-04, -2.97515496e-03,  6.52031258e-04,\n",
       "         2.44646850e-03,  1.28585264e-03,  2.65159305e-04,\n",
       "         3.07404305e-03, -7.36793528e-04,  2.00879115e-03,\n",
       "         8.29434789e-04,  3.35930421e-03,  1.11469595e-03,\n",
       "         1.27335897e-03, -1.68794096e-03,  1.57301676e-04,\n",
       "         4.30069165e-04, -1.68794096e-03, -1.21712648e-04,\n",
       "         2.05959655e-03],\n",
       "       [-2.19231587e-03, -4.02528198e-03,  1.82322441e-03,\n",
       "        -1.15808102e-03, -3.68296859e-03, -7.58715394e-04,\n",
       "         2.56490342e-03,  2.19224024e-03,  3.02221908e-04,\n",
       "        -2.45245307e-04,  1.81957707e-03,  7.05234873e-04,\n",
       "         1.38986166e-03,  5.60780623e-04, -1.73589802e-03,\n",
       "         6.48182641e-04, -7.04412697e-05,  1.90697908e-03,\n",
       "         1.76617218e-03,  5.30430836e-04,  1.07789805e-03,\n",
       "         5.30430836e-04, -3.22655073e-03, -1.99080939e-03,\n",
       "        -7.89065181e-04,  2.75519463e-04, -3.02297539e-04,\n",
       "         8.19339337e-04, -1.78930291e-03,  3.59274140e-04,\n",
       "         3.89623927e-04,  3.16577553e-03,  4.46676159e-04,\n",
       "         1.00715426e-04,  1.88117445e-04,  3.48138647e-03,\n",
       "        -9.29872089e-04, -1.81965270e-03,  3.53843871e-03,\n",
       "         2.62195565e-03,  1.76617218e-03,  1.62171792e-03,\n",
       "         2.56855076e-03,  1.99438110e-03,  2.59525321e-03,\n",
       "         3.16577553e-03,  2.27964226e-03,  7.88989550e-04,\n",
       "         2.13883535e-03,  1.82322441e-03, -1.30618261e-03,\n",
       "        -3.68296859e-03, -3.51181189e-03, -2.16561343e-03,\n",
       "         3.36728201e-03,  1.88117445e-04,  7.62287105e-04,\n",
       "         2.53820098e-03,  6.44535300e-04,  8.72744227e-04,\n",
       "        -1.30618261e-03, -7.01663162e-04,  6.44535300e-04,\n",
       "        -1.18843080e-03, -6.44610930e-04,  1.30610698e-03,\n",
       "         7.05234873e-04, -3.31030541e-03, -7.89065181e-04,\n",
       "        -2.14895520e-04, -3.56886412e-03,  1.33134073e-05,\n",
       "        -2.36347257e-03,  1.70547260e-03, -3.86052216e-04,\n",
       "        -2.91093979e-03, -1.90340737e-03,  1.10460050e-03,\n",
       "        -1.93375716e-03,  1.93732887e-03, -2.99469446e-03,\n",
       "         1.59136814e-03, -1.30618261e-03,  2.79675969e-03,\n",
       "         1.76617218e-03, -3.48146210e-03,  1.04754826e-03,\n",
       "        -2.33312278e-03, -9.60221876e-04, -1.78930291e-03,\n",
       "        -5.00156680e-04, -4.19643867e-03, -2.36347257e-03,\n",
       "         8.76391569e-04, -1.16172836e-03, -3.86052216e-04,\n",
       "         2.10848557e-03, -1.16172836e-03, -7.01663162e-04,\n",
       "         1.69607490e-05]])"
      ]
     },
     "execution_count": 16,
     "metadata": {},
     "output_type": "execute_result"
    }
   ],
   "source": [
    "InfoMat = np.matmul(InvXX_trans,X_trans)\n",
    "InfoMat"
   ]
  },
  {
   "attachments": {},
   "cell_type": "markdown",
   "metadata": {},
   "source": [
    "Regression matrix => info matrix x Y"
   ]
  },
  {
   "cell_type": "code",
   "execution_count": 17,
   "metadata": {},
   "outputs": [
    {
     "data": {
      "text/plain": [
       "array([[34.6176318 ],\n",
       "       [ 0.74759158],\n",
       "       [ 0.51893888]])"
      ]
     },
     "execution_count": 17,
     "metadata": {},
     "output_type": "execute_result"
    }
   ],
   "source": [
    "regMatrix = np.matmul(InfoMat,Y)\n",
    "regMatrix"
   ]
  },
  {
   "attachments": {},
   "cell_type": "markdown",
   "metadata": {},
   "source": [
    "In regmatrix each row will map to each column. That is if first colum of design matrix A then first row of Y will be the regression coefficient of A, second row of Y will be the regression coffe of B and so on.. "
   ]
  },
  {
   "attachments": {},
   "cell_type": "markdown",
   "metadata": {},
   "source": [
    "Changing the predictors columns will change the regression coefficients of according If B is the first column then the first row will be slope value  of B.  **Predictors does not have to follow an order**. Shuffling will not affect the coefficients"
   ]
  },
  {
   "cell_type": "code",
   "execution_count": 18,
   "metadata": {},
   "outputs": [
    {
     "data": {
      "text/html": [
       "<div>\n",
       "<style scoped>\n",
       "    .dataframe tbody tr th:only-of-type {\n",
       "        vertical-align: middle;\n",
       "    }\n",
       "\n",
       "    .dataframe tbody tr th {\n",
       "        vertical-align: top;\n",
       "    }\n",
       "\n",
       "    .dataframe thead th {\n",
       "        text-align: right;\n",
       "    }\n",
       "</style>\n",
       "<table border=\"1\" class=\"dataframe\">\n",
       "  <thead>\n",
       "    <tr style=\"text-align: right;\">\n",
       "      <th></th>\n",
       "      <th>Coff</th>\n",
       "      <th>A</th>\n",
       "      <th>B</th>\n",
       "    </tr>\n",
       "  </thead>\n",
       "  <tbody>\n",
       "    <tr>\n",
       "      <th>0</th>\n",
       "      <td>1</td>\n",
       "      <td>10</td>\n",
       "      <td>5</td>\n",
       "    </tr>\n",
       "    <tr>\n",
       "      <th>1</th>\n",
       "      <td>1</td>\n",
       "      <td>16</td>\n",
       "      <td>1</td>\n",
       "    </tr>\n",
       "    <tr>\n",
       "      <th>2</th>\n",
       "      <td>1</td>\n",
       "      <td>18</td>\n",
       "      <td>17</td>\n",
       "    </tr>\n",
       "    <tr>\n",
       "      <th>3</th>\n",
       "      <td>1</td>\n",
       "      <td>18</td>\n",
       "      <td>9</td>\n",
       "    </tr>\n",
       "    <tr>\n",
       "      <th>4</th>\n",
       "      <td>1</td>\n",
       "      <td>10</td>\n",
       "      <td>1</td>\n",
       "    </tr>\n",
       "    <tr>\n",
       "      <th>...</th>\n",
       "      <td>...</td>\n",
       "      <td>...</td>\n",
       "      <td>...</td>\n",
       "    </tr>\n",
       "    <tr>\n",
       "      <th>95</th>\n",
       "      <td>1</td>\n",
       "      <td>11</td>\n",
       "      <td>10</td>\n",
       "    </tr>\n",
       "    <tr>\n",
       "      <th>96</th>\n",
       "      <td>1</td>\n",
       "      <td>13</td>\n",
       "      <td>17</td>\n",
       "    </tr>\n",
       "    <tr>\n",
       "      <th>97</th>\n",
       "      <td>1</td>\n",
       "      <td>5</td>\n",
       "      <td>7</td>\n",
       "    </tr>\n",
       "    <tr>\n",
       "      <th>98</th>\n",
       "      <td>1</td>\n",
       "      <td>10</td>\n",
       "      <td>9</td>\n",
       "    </tr>\n",
       "    <tr>\n",
       "      <th>99</th>\n",
       "      <td>1</td>\n",
       "      <td>17</td>\n",
       "      <td>12</td>\n",
       "    </tr>\n",
       "  </tbody>\n",
       "</table>\n",
       "<p>100 rows × 3 columns</p>\n",
       "</div>"
      ],
      "text/plain": [
       "    Coff   A   B\n",
       "0      1  10   5\n",
       "1      1  16   1\n",
       "2      1  18  17\n",
       "3      1  18   9\n",
       "4      1  10   1\n",
       "..   ...  ..  ..\n",
       "95     1  11  10\n",
       "96     1  13  17\n",
       "97     1   5   7\n",
       "98     1  10   9\n",
       "99     1  17  12\n",
       "\n",
       "[100 rows x 3 columns]"
      ]
     },
     "execution_count": 18,
     "metadata": {},
     "output_type": "execute_result"
    }
   ],
   "source": [
    "XFrame=pd.DataFrame(X)\n",
    "XFrame.columns = [\"Coff\",\"A\",\"B\"]\n",
    "XFrame"
   ]
  },
  {
   "cell_type": "code",
   "execution_count": 19,
   "metadata": {},
   "outputs": [
    {
     "data": {
      "text/html": [
       "<div>\n",
       "<style scoped>\n",
       "    .dataframe tbody tr th:only-of-type {\n",
       "        vertical-align: middle;\n",
       "    }\n",
       "\n",
       "    .dataframe tbody tr th {\n",
       "        vertical-align: top;\n",
       "    }\n",
       "\n",
       "    .dataframe thead th {\n",
       "        text-align: right;\n",
       "    }\n",
       "</style>\n",
       "<table border=\"1\" class=\"dataframe\">\n",
       "  <thead>\n",
       "    <tr style=\"text-align: right;\">\n",
       "      <th></th>\n",
       "      <th>Y</th>\n",
       "    </tr>\n",
       "  </thead>\n",
       "  <tbody>\n",
       "    <tr>\n",
       "      <th>0</th>\n",
       "      <td>40</td>\n",
       "    </tr>\n",
       "    <tr>\n",
       "      <th>1</th>\n",
       "      <td>59</td>\n",
       "    </tr>\n",
       "    <tr>\n",
       "      <th>2</th>\n",
       "      <td>82</td>\n",
       "    </tr>\n",
       "    <tr>\n",
       "      <th>3</th>\n",
       "      <td>40</td>\n",
       "    </tr>\n",
       "    <tr>\n",
       "      <th>4</th>\n",
       "      <td>50</td>\n",
       "    </tr>\n",
       "    <tr>\n",
       "      <th>...</th>\n",
       "      <td>...</td>\n",
       "    </tr>\n",
       "    <tr>\n",
       "      <th>95</th>\n",
       "      <td>70</td>\n",
       "    </tr>\n",
       "    <tr>\n",
       "      <th>96</th>\n",
       "      <td>92</td>\n",
       "    </tr>\n",
       "    <tr>\n",
       "      <th>97</th>\n",
       "      <td>17</td>\n",
       "    </tr>\n",
       "    <tr>\n",
       "      <th>98</th>\n",
       "      <td>6</td>\n",
       "    </tr>\n",
       "    <tr>\n",
       "      <th>99</th>\n",
       "      <td>64</td>\n",
       "    </tr>\n",
       "  </tbody>\n",
       "</table>\n",
       "<p>100 rows × 1 columns</p>\n",
       "</div>"
      ],
      "text/plain": [
       "     Y\n",
       "0   40\n",
       "1   59\n",
       "2   82\n",
       "3   40\n",
       "4   50\n",
       "..  ..\n",
       "95  70\n",
       "96  92\n",
       "97  17\n",
       "98   6\n",
       "99  64\n",
       "\n",
       "[100 rows x 1 columns]"
      ]
     },
     "execution_count": 19,
     "metadata": {},
     "output_type": "execute_result"
    }
   ],
   "source": [
    "YFrame = pd.DataFrame(Y)\n",
    "YFrame.columns = [\"Y\"]\n",
    "YFrame"
   ]
  },
  {
   "attachments": {},
   "cell_type": "markdown",
   "metadata": {},
   "source": [
    "Visualizing entire dataset"
   ]
  },
  {
   "cell_type": "code",
   "execution_count": 20,
   "metadata": {},
   "outputs": [
    {
     "data": {
      "text/html": [
       "<div>\n",
       "<style scoped>\n",
       "    .dataframe tbody tr th:only-of-type {\n",
       "        vertical-align: middle;\n",
       "    }\n",
       "\n",
       "    .dataframe tbody tr th {\n",
       "        vertical-align: top;\n",
       "    }\n",
       "\n",
       "    .dataframe thead th {\n",
       "        text-align: right;\n",
       "    }\n",
       "</style>\n",
       "<table border=\"1\" class=\"dataframe\">\n",
       "  <thead>\n",
       "    <tr style=\"text-align: right;\">\n",
       "      <th></th>\n",
       "      <th>Coff</th>\n",
       "      <th>A</th>\n",
       "      <th>B</th>\n",
       "      <th>Y</th>\n",
       "    </tr>\n",
       "  </thead>\n",
       "  <tbody>\n",
       "    <tr>\n",
       "      <th>0</th>\n",
       "      <td>1</td>\n",
       "      <td>10</td>\n",
       "      <td>5</td>\n",
       "      <td>40</td>\n",
       "    </tr>\n",
       "    <tr>\n",
       "      <th>1</th>\n",
       "      <td>1</td>\n",
       "      <td>16</td>\n",
       "      <td>1</td>\n",
       "      <td>59</td>\n",
       "    </tr>\n",
       "    <tr>\n",
       "      <th>2</th>\n",
       "      <td>1</td>\n",
       "      <td>18</td>\n",
       "      <td>17</td>\n",
       "      <td>82</td>\n",
       "    </tr>\n",
       "    <tr>\n",
       "      <th>3</th>\n",
       "      <td>1</td>\n",
       "      <td>18</td>\n",
       "      <td>9</td>\n",
       "      <td>40</td>\n",
       "    </tr>\n",
       "    <tr>\n",
       "      <th>4</th>\n",
       "      <td>1</td>\n",
       "      <td>10</td>\n",
       "      <td>1</td>\n",
       "      <td>50</td>\n",
       "    </tr>\n",
       "    <tr>\n",
       "      <th>...</th>\n",
       "      <td>...</td>\n",
       "      <td>...</td>\n",
       "      <td>...</td>\n",
       "      <td>...</td>\n",
       "    </tr>\n",
       "    <tr>\n",
       "      <th>95</th>\n",
       "      <td>1</td>\n",
       "      <td>11</td>\n",
       "      <td>10</td>\n",
       "      <td>70</td>\n",
       "    </tr>\n",
       "    <tr>\n",
       "      <th>96</th>\n",
       "      <td>1</td>\n",
       "      <td>13</td>\n",
       "      <td>17</td>\n",
       "      <td>92</td>\n",
       "    </tr>\n",
       "    <tr>\n",
       "      <th>97</th>\n",
       "      <td>1</td>\n",
       "      <td>5</td>\n",
       "      <td>7</td>\n",
       "      <td>17</td>\n",
       "    </tr>\n",
       "    <tr>\n",
       "      <th>98</th>\n",
       "      <td>1</td>\n",
       "      <td>10</td>\n",
       "      <td>9</td>\n",
       "      <td>6</td>\n",
       "    </tr>\n",
       "    <tr>\n",
       "      <th>99</th>\n",
       "      <td>1</td>\n",
       "      <td>17</td>\n",
       "      <td>12</td>\n",
       "      <td>64</td>\n",
       "    </tr>\n",
       "  </tbody>\n",
       "</table>\n",
       "<p>100 rows × 4 columns</p>\n",
       "</div>"
      ],
      "text/plain": [
       "    Coff   A   B   Y\n",
       "0      1  10   5  40\n",
       "1      1  16   1  59\n",
       "2      1  18  17  82\n",
       "3      1  18   9  40\n",
       "4      1  10   1  50\n",
       "..   ...  ..  ..  ..\n",
       "95     1  11  10  70\n",
       "96     1  13  17  92\n",
       "97     1   5   7  17\n",
       "98     1  10   9   6\n",
       "99     1  17  12  64\n",
       "\n",
       "[100 rows x 4 columns]"
      ]
     },
     "execution_count": 20,
     "metadata": {},
     "output_type": "execute_result"
    }
   ],
   "source": [
    "dfReg = pd.concat([XFrame,YFrame],axis=1)\n",
    "dfReg"
   ]
  },
  {
   "attachments": {},
   "cell_type": "markdown",
   "metadata": {},
   "source": [
    "Declaring design matrix and Response matrix"
   ]
  },
  {
   "cell_type": "code",
   "execution_count": 21,
   "metadata": {},
   "outputs": [
    {
     "data": {
      "text/html": [
       "<div>\n",
       "<style scoped>\n",
       "    .dataframe tbody tr th:only-of-type {\n",
       "        vertical-align: middle;\n",
       "    }\n",
       "\n",
       "    .dataframe tbody tr th {\n",
       "        vertical-align: top;\n",
       "    }\n",
       "\n",
       "    .dataframe thead th {\n",
       "        text-align: right;\n",
       "    }\n",
       "</style>\n",
       "<table border=\"1\" class=\"dataframe\">\n",
       "  <thead>\n",
       "    <tr style=\"text-align: right;\">\n",
       "      <th></th>\n",
       "      <th>Coff</th>\n",
       "      <th>A</th>\n",
       "      <th>B</th>\n",
       "    </tr>\n",
       "  </thead>\n",
       "  <tbody>\n",
       "    <tr>\n",
       "      <th>0</th>\n",
       "      <td>1</td>\n",
       "      <td>10</td>\n",
       "      <td>5</td>\n",
       "    </tr>\n",
       "    <tr>\n",
       "      <th>1</th>\n",
       "      <td>1</td>\n",
       "      <td>16</td>\n",
       "      <td>1</td>\n",
       "    </tr>\n",
       "    <tr>\n",
       "      <th>2</th>\n",
       "      <td>1</td>\n",
       "      <td>18</td>\n",
       "      <td>17</td>\n",
       "    </tr>\n",
       "    <tr>\n",
       "      <th>3</th>\n",
       "      <td>1</td>\n",
       "      <td>18</td>\n",
       "      <td>9</td>\n",
       "    </tr>\n",
       "    <tr>\n",
       "      <th>4</th>\n",
       "      <td>1</td>\n",
       "      <td>10</td>\n",
       "      <td>1</td>\n",
       "    </tr>\n",
       "    <tr>\n",
       "      <th>...</th>\n",
       "      <td>...</td>\n",
       "      <td>...</td>\n",
       "      <td>...</td>\n",
       "    </tr>\n",
       "    <tr>\n",
       "      <th>95</th>\n",
       "      <td>1</td>\n",
       "      <td>11</td>\n",
       "      <td>10</td>\n",
       "    </tr>\n",
       "    <tr>\n",
       "      <th>96</th>\n",
       "      <td>1</td>\n",
       "      <td>13</td>\n",
       "      <td>17</td>\n",
       "    </tr>\n",
       "    <tr>\n",
       "      <th>97</th>\n",
       "      <td>1</td>\n",
       "      <td>5</td>\n",
       "      <td>7</td>\n",
       "    </tr>\n",
       "    <tr>\n",
       "      <th>98</th>\n",
       "      <td>1</td>\n",
       "      <td>10</td>\n",
       "      <td>9</td>\n",
       "    </tr>\n",
       "    <tr>\n",
       "      <th>99</th>\n",
       "      <td>1</td>\n",
       "      <td>17</td>\n",
       "      <td>12</td>\n",
       "    </tr>\n",
       "  </tbody>\n",
       "</table>\n",
       "<p>100 rows × 3 columns</p>\n",
       "</div>"
      ],
      "text/plain": [
       "    Coff   A   B\n",
       "0      1  10   5\n",
       "1      1  16   1\n",
       "2      1  18  17\n",
       "3      1  18   9\n",
       "4      1  10   1\n",
       "..   ...  ..  ..\n",
       "95     1  11  10\n",
       "96     1  13  17\n",
       "97     1   5   7\n",
       "98     1  10   9\n",
       "99     1  17  12\n",
       "\n",
       "[100 rows x 3 columns]"
      ]
     },
     "execution_count": 21,
     "metadata": {},
     "output_type": "execute_result"
    }
   ],
   "source": [
    "X = dfReg.drop(columns=[\"Y\"])\n",
    "X"
   ]
  },
  {
   "cell_type": "code",
   "execution_count": 22,
   "metadata": {},
   "outputs": [
    {
     "data": {
      "text/plain": [
       "0     40\n",
       "1     59\n",
       "2     82\n",
       "3     40\n",
       "4     50\n",
       "      ..\n",
       "95    70\n",
       "96    92\n",
       "97    17\n",
       "98     6\n",
       "99    64\n",
       "Name: Y, Length: 100, dtype: int32"
      ]
     },
     "execution_count": 22,
     "metadata": {},
     "output_type": "execute_result"
    }
   ],
   "source": [
    "y = dfReg[\"Y\"]\n",
    "y"
   ]
  },
  {
   "attachments": {},
   "cell_type": "markdown",
   "metadata": {},
   "source": [
    "Calculating the y prediction value (fitting regression line)\n",
    "\n",
    "Ypred = X(with constant column)xb"
   ]
  },
  {
   "cell_type": "code",
   "execution_count": 23,
   "metadata": {},
   "outputs": [],
   "source": [
    "y_pred = np.matmul(X,regMatrix)\n"
   ]
  },
  {
   "attachments": {},
   "cell_type": "markdown",
   "metadata": {},
   "source": [
    "SumOfSquaredError"
   ]
  },
  {
   "cell_type": "code",
   "execution_count": 24,
   "metadata": {},
   "outputs": [
    {
     "data": {
      "text/plain": [
       "79047.53678295964"
      ]
     },
     "execution_count": 24,
     "metadata": {},
     "output_type": "execute_result"
    }
   ],
   "source": [
    "SE = (Y - y_pred)**2\n",
    "SE.columns = [\"SE\"]\n",
    "SSE = SE[\"SE\"].sum()\n",
    "SSE"
   ]
  },
  {
   "attachments": {},
   "cell_type": "markdown",
   "metadata": {},
   "source": [
    "MSE = SSE/(n - k - 1)"
   ]
  },
  {
   "attachments": {},
   "cell_type": "markdown",
   "metadata": {},
   "source": [
    "Mean Square error or best error value that represent the whole SSE"
   ]
  },
  {
   "cell_type": "code",
   "execution_count": 25,
   "metadata": {},
   "outputs": [
    {
     "data": {
      "text/plain": [
       "814.9230596181405"
      ]
     },
     "execution_count": 25,
     "metadata": {},
     "output_type": "execute_result"
    }
   ],
   "source": [
    "n = len(Y) \n",
    "k = (len(X.columns)) - 1\n",
    "\n",
    "\n",
    "MSE = SSE/(n - k - 1)\n",
    "\n",
    "MSE"
   ]
  },
  {
   "attachments": {},
   "cell_type": "markdown",
   "metadata": {},
   "source": [
    "Total sum of squared error"
   ]
  },
  {
   "cell_type": "code",
   "execution_count": 26,
   "metadata": {},
   "outputs": [
    {
     "data": {
      "text/plain": [
       "81859.76"
      ]
     },
     "execution_count": 26,
     "metadata": {},
     "output_type": "execute_result"
    }
   ],
   "source": [
    "Y_mean = dfReg[\"Y\"].mean()\n",
    "\n",
    "ST = (dfReg[\"Y\"] - Y_mean)**2\n",
    "SST = ST.sum()\n",
    "SST"
   ]
  },
  {
   "cell_type": "markdown",
   "metadata": {},
   "source": [
    "R^2"
   ]
  },
  {
   "cell_type": "code",
   "execution_count": 27,
   "metadata": {},
   "outputs": [
    {
     "data": {
      "text/plain": [
       "0.034354159076942836"
      ]
     },
     "execution_count": 27,
     "metadata": {},
     "output_type": "execute_result"
    }
   ],
   "source": [
    "R_sq = 1 - (SSE/SST)\n",
    "R_sq"
   ]
  },
  {
   "attachments": {},
   "cell_type": "markdown",
   "metadata": {},
   "source": [
    "SSR = Sum of squared by regression"
   ]
  },
  {
   "cell_type": "code",
   "execution_count": 28,
   "metadata": {},
   "outputs": [
    {
     "data": {
      "text/plain": [
       "2812.2232170403668"
      ]
     },
     "execution_count": 28,
     "metadata": {},
     "output_type": "execute_result"
    }
   ],
   "source": [
    "SR =(y_pred - Y_mean)**2\n",
    "SR.columns = [\"SSR\"]\n",
    "SSR = SR[\"SSR\"].sum()\n",
    "SSR"
   ]
  },
  {
   "attachments": {},
   "cell_type": "markdown",
   "metadata": {},
   "source": [
    "R^2 -> Measure of y explained by X or What is the percentage of Variance of Y is allocated to SSR and SSE"
   ]
  },
  {
   "attachments": {},
   "cell_type": "markdown",
   "metadata": {},
   "source": [
    "R^2 = By Introducing the variable X in Model how much of SST is allocated to SSR (Which says the percentage of Y is depended upon the X) and SSE (Percentage that was not dependend on X, need other features explain this)"
   ]
  },
  {
   "cell_type": "code",
   "execution_count": 29,
   "metadata": {},
   "outputs": [
    {
     "data": {
      "text/plain": [
       "0.0343541590769429"
      ]
     },
     "execution_count": 29,
     "metadata": {},
     "output_type": "execute_result"
    }
   ],
   "source": [
    "SSR/SST"
   ]
  },
  {
   "attachments": {},
   "cell_type": "markdown",
   "metadata": {},
   "source": [
    "Adjusted R^2\n",
    "\n",
    "To take in the account of feature count. Adjusted R^2 is more trusted than R^2"
   ]
  },
  {
   "cell_type": "code",
   "execution_count": 30,
   "metadata": {},
   "outputs": [
    {
     "data": {
      "text/plain": [
       "0.014443935552756026"
      ]
     },
     "execution_count": 30,
     "metadata": {},
     "output_type": "execute_result"
    }
   ],
   "source": [
    "Numerator2Term = (n - 1)*(1 - R_sq)\n",
    "Adj_R_Sq = 1 - (Numerator2Term/(n - k - 1))\n",
    "Adj_R_Sq"
   ]
  },
  {
   "attachments": {},
   "cell_type": "markdown",
   "metadata": {},
   "source": [
    "BELOW TWO CELLS CALCULATES SB USING DIFFERENT FORMULAE\n",
    "\n",
    "Formulae: sqrt((MSE*(1-R^2)/((n-k-1)*Variance of the Feature))\n",
    "\n",
    "The above formulae is not used in OLS"
   ]
  },
  {
   "attachments": {},
   "cell_type": "markdown",
   "metadata": {},
   "source": [
    "Variance of features"
   ]
  },
  {
   "cell_type": "code",
   "execution_count": 31,
   "metadata": {},
   "outputs": [
    {
     "data": {
      "text/plain": [
       "{'A': 30.859, 'B': 27.828}"
      ]
     },
     "execution_count": 31,
     "metadata": {},
     "output_type": "execute_result"
    }
   ],
   "source": [
    "Var_F = {i: np.round(X[i].var(),3) for i in (X.drop(columns=[\"Coff\"])).columns}\n",
    "    \n",
    "\n",
    "Var_F"
   ]
  },
  {
   "attachments": {},
   "cell_type": "markdown",
   "metadata": {},
   "source": [
    "Standard error of regression coefficient "
   ]
  },
  {
   "cell_type": "code",
   "execution_count": 32,
   "metadata": {},
   "outputs": [
    {
     "data": {
      "text/plain": [
       "{'A': 0.513, 'B': 0.54}"
      ]
     },
     "execution_count": 32,
     "metadata": {},
     "output_type": "execute_result"
    }
   ],
   "source": [
    "Num = np.round(MSE,3)*np.round((1 - R_sq),3)\n",
    "Dem_1 = n - k - 1\n",
    "St_b = {i:np.round(np.sqrt((Num/(Dem_1*Var_F[i]))),3) for i in Var_F}\n",
    "St_b"
   ]
  },
  {
   "attachments": {},
   "cell_type": "markdown",
   "metadata": {},
   "source": [
    "Formulae : sqrt(MSE*InvXX_trans)\n",
    "\n",
    "is used to calculate SD_beta in OLS"
   ]
  },
  {
   "cell_type": "code",
   "execution_count": 33,
   "metadata": {},
   "outputs": [
    {
     "data": {
      "text/html": [
       "<div>\n",
       "<style scoped>\n",
       "    .dataframe tbody tr th:only-of-type {\n",
       "        vertical-align: middle;\n",
       "    }\n",
       "\n",
       "    .dataframe tbody tr th {\n",
       "        vertical-align: top;\n",
       "    }\n",
       "\n",
       "    .dataframe thead th {\n",
       "        text-align: right;\n",
       "    }\n",
       "</style>\n",
       "<table border=\"1\" class=\"dataframe\">\n",
       "  <thead>\n",
       "    <tr style=\"text-align: right;\">\n",
       "      <th></th>\n",
       "      <th>Coff</th>\n",
       "      <th>A</th>\n",
       "      <th>B</th>\n",
       "      <th>Y</th>\n",
       "    </tr>\n",
       "  </thead>\n",
       "  <tbody>\n",
       "    <tr>\n",
       "      <th>Coff</th>\n",
       "      <td>0.0</td>\n",
       "      <td>0.000000</td>\n",
       "      <td>0.000000</td>\n",
       "      <td>0.000000</td>\n",
       "    </tr>\n",
       "    <tr>\n",
       "      <th>A</th>\n",
       "      <td>0.0</td>\n",
       "      <td>30.858586</td>\n",
       "      <td>4.724242</td>\n",
       "      <td>25.521212</td>\n",
       "    </tr>\n",
       "    <tr>\n",
       "      <th>B</th>\n",
       "      <td>0.0</td>\n",
       "      <td>4.724242</td>\n",
       "      <td>27.828182</td>\n",
       "      <td>17.972929</td>\n",
       "    </tr>\n",
       "    <tr>\n",
       "      <th>Y</th>\n",
       "      <td>0.0</td>\n",
       "      <td>25.521212</td>\n",
       "      <td>17.972929</td>\n",
       "      <td>826.866263</td>\n",
       "    </tr>\n",
       "  </tbody>\n",
       "</table>\n",
       "</div>"
      ],
      "text/plain": [
       "      Coff          A          B           Y\n",
       "Coff   0.0   0.000000   0.000000    0.000000\n",
       "A      0.0  30.858586   4.724242   25.521212\n",
       "B      0.0   4.724242  27.828182   17.972929\n",
       "Y      0.0  25.521212  17.972929  826.866263"
      ]
     },
     "execution_count": 33,
     "metadata": {},
     "output_type": "execute_result"
    }
   ],
   "source": [
    "dfReg.cov()"
   ]
  },
  {
   "attachments": {},
   "cell_type": "markdown",
   "metadata": {},
   "source": [
    "Covariance matrix and s_b calculation"
   ]
  },
  {
   "cell_type": "code",
   "execution_count": 34,
   "metadata": {},
   "outputs": [
    {
     "data": {
      "text/plain": [
       "[8.0777351590742, 0.5233243603366923, 0.5510824051344285]"
      ]
     },
     "execution_count": 34,
     "metadata": {},
     "output_type": "execute_result"
    }
   ],
   "source": [
    "CovMat = (MSE*InvXX_trans)\n",
    "S_regCof_count = k + 1\n",
    "s_b=[np.sqrt(CovMat[i][i]) for i in range(0,S_regCof_count)] #! standard error of slopes\n",
    "s_b"
   ]
  },
  {
   "attachments": {},
   "cell_type": "markdown",
   "metadata": {},
   "source": [
    "T values"
   ]
  },
  {
   "attachments": {},
   "cell_type": "markdown",
   "metadata": {},
   "source": [
    "tb = b/s(b)"
   ]
  },
  {
   "cell_type": "code",
   "execution_count": 35,
   "metadata": {},
   "outputs": [],
   "source": [
    "from scipy.stats import t"
   ]
  },
  {
   "cell_type": "code",
   "execution_count": 36,
   "metadata": {},
   "outputs": [
    {
     "data": {
      "text/plain": [
       "[4.285561623264375, 1.4285434427629973, 0.9416720114011518]"
      ]
     },
     "execution_count": 36,
     "metadata": {},
     "output_type": "execute_result"
    }
   ],
   "source": [
    "t_stastic = [regMatrix[ind][0]/i for ind,i in enumerate(s_b)]\n",
    "t_stastic"
   ]
  },
  {
   "attachments": {},
   "cell_type": "markdown",
   "metadata": {},
   "source": [
    "P-Values\n",
    "\n",
    "Cdf of t-distribution is governed by calculus. My implementation have not fit for computation, Using the ``scipy.stats.cdf and ..ppf`` "
   ]
  },
  {
   "cell_type": "code",
   "execution_count": 37,
   "metadata": {},
   "outputs": [
    {
     "data": {
      "text/plain": [
       "[4.2992412432774074e-05, 0.15634767795090276, 0.3486999153665822]"
      ]
     },
     "execution_count": 37,
     "metadata": {},
     "output_type": "execute_result"
    }
   ],
   "source": [
    "p_values = [(1 - t.cdf(abs(i),n-k-1))*2 for i in t_stastic]\n",
    "p_values"
   ]
  },
  {
   "attachments": {},
   "cell_type": "markdown",
   "metadata": {},
   "source": [
    "Verification"
   ]
  },
  {
   "cell_type": "code",
   "execution_count": 38,
   "metadata": {},
   "outputs": [
    {
     "data": {
      "text/html": [
       "<table class=\"simpletable\">\n",
       "<caption>OLS Regression Results</caption>\n",
       "<tr>\n",
       "  <th>Dep. Variable:</th>            <td>y</td>        <th>  R-squared:         </th> <td>   0.034</td>\n",
       "</tr>\n",
       "<tr>\n",
       "  <th>Model:</th>                   <td>OLS</td>       <th>  Adj. R-squared:    </th> <td>   0.014</td>\n",
       "</tr>\n",
       "<tr>\n",
       "  <th>Method:</th>             <td>Least Squares</td>  <th>  F-statistic:       </th> <td>   1.725</td>\n",
       "</tr>\n",
       "<tr>\n",
       "  <th>Date:</th>             <td>Mon, 27 Feb 2023</td> <th>  Prob (F-statistic):</th>  <td> 0.184</td> \n",
       "</tr>\n",
       "<tr>\n",
       "  <th>Time:</th>                 <td>12:11:11</td>     <th>  Log-Likelihood:    </th> <td> -475.53</td>\n",
       "</tr>\n",
       "<tr>\n",
       "  <th>No. Observations:</th>      <td>   100</td>      <th>  AIC:               </th> <td>   957.1</td>\n",
       "</tr>\n",
       "<tr>\n",
       "  <th>Df Residuals:</th>          <td>    97</td>      <th>  BIC:               </th> <td>   964.9</td>\n",
       "</tr>\n",
       "<tr>\n",
       "  <th>Df Model:</th>              <td>     2</td>      <th>                     </th>     <td> </td>   \n",
       "</tr>\n",
       "<tr>\n",
       "  <th>Covariance Type:</th>      <td>nonrobust</td>    <th>                     </th>     <td> </td>   \n",
       "</tr>\n",
       "</table>\n",
       "<table class=\"simpletable\">\n",
       "<tr>\n",
       "    <td></td>      <th>coef</th>     <th>std err</th>      <th>t</th>      <th>P>|t|</th>  <th>[0.025</th>    <th>0.975]</th>  \n",
       "</tr>\n",
       "<tr>\n",
       "  <th>Coff</th> <td>   34.6176</td> <td>    8.078</td> <td>    4.286</td> <td> 0.000</td> <td>   18.586</td> <td>   50.650</td>\n",
       "</tr>\n",
       "<tr>\n",
       "  <th>A</th>    <td>    0.7476</td> <td>    0.523</td> <td>    1.429</td> <td> 0.156</td> <td>   -0.291</td> <td>    1.786</td>\n",
       "</tr>\n",
       "<tr>\n",
       "  <th>B</th>    <td>    0.5189</td> <td>    0.551</td> <td>    0.942</td> <td> 0.349</td> <td>   -0.575</td> <td>    1.613</td>\n",
       "</tr>\n",
       "</table>\n",
       "<table class=\"simpletable\">\n",
       "<tr>\n",
       "  <th>Omnibus:</th>       <td>30.910</td> <th>  Durbin-Watson:     </th> <td>   2.249</td>\n",
       "</tr>\n",
       "<tr>\n",
       "  <th>Prob(Omnibus):</th> <td> 0.000</td> <th>  Jarque-Bera (JB):  </th> <td>   5.864</td>\n",
       "</tr>\n",
       "<tr>\n",
       "  <th>Skew:</th>          <td>-0.053</td> <th>  Prob(JB):          </th> <td>  0.0533</td>\n",
       "</tr>\n",
       "<tr>\n",
       "  <th>Kurtosis:</th>      <td> 1.818</td> <th>  Cond. No.          </th> <td>    46.6</td>\n",
       "</tr>\n",
       "</table><br/><br/>Notes:<br/>[1] Standard Errors assume that the covariance matrix of the errors is correctly specified."
      ],
      "text/plain": [
       "<class 'statsmodels.iolib.summary.Summary'>\n",
       "\"\"\"\n",
       "                            OLS Regression Results                            \n",
       "==============================================================================\n",
       "Dep. Variable:                      y   R-squared:                       0.034\n",
       "Model:                            OLS   Adj. R-squared:                  0.014\n",
       "Method:                 Least Squares   F-statistic:                     1.725\n",
       "Date:                Mon, 27 Feb 2023   Prob (F-statistic):              0.184\n",
       "Time:                        12:11:11   Log-Likelihood:                -475.53\n",
       "No. Observations:                 100   AIC:                             957.1\n",
       "Df Residuals:                      97   BIC:                             964.9\n",
       "Df Model:                           2                                         \n",
       "Covariance Type:            nonrobust                                         \n",
       "==============================================================================\n",
       "                 coef    std err          t      P>|t|      [0.025      0.975]\n",
       "------------------------------------------------------------------------------\n",
       "Coff          34.6176      8.078      4.286      0.000      18.586      50.650\n",
       "A              0.7476      0.523      1.429      0.156      -0.291       1.786\n",
       "B              0.5189      0.551      0.942      0.349      -0.575       1.613\n",
       "==============================================================================\n",
       "Omnibus:                       30.910   Durbin-Watson:                   2.249\n",
       "Prob(Omnibus):                  0.000   Jarque-Bera (JB):                5.864\n",
       "Skew:                          -0.053   Prob(JB):                       0.0533\n",
       "Kurtosis:                       1.818   Cond. No.                         46.6\n",
       "==============================================================================\n",
       "\n",
       "Notes:\n",
       "[1] Standard Errors assume that the covariance matrix of the errors is correctly specified.\n",
       "\"\"\""
      ]
     },
     "execution_count": 38,
     "metadata": {},
     "output_type": "execute_result"
    }
   ],
   "source": [
    "import statsmodels.api as sm\n",
    "\n",
    "sm.OLS(Y,X).fit().summary()"
   ]
  },
  {
   "cell_type": "code",
   "execution_count": 50,
   "metadata": {},
   "outputs": [
    {
     "name": "stdout",
     "output_type": "stream",
     "text": [
      "\n",
      "\n",
      "R-squared : 0.034354159076942836\n",
      "\n",
      "adj.R-squared: 0.014443935552756026\n",
      "\n",
      "coef: $[[34.6176318 ]\n",
      " [ 0.74759158]\n",
      " [ 0.51893888]] \n",
      "\n",
      "std err: ${'A': 0.513, 'B': 0.54} \n",
      "\n",
      "t: $[4.285561623264375, 1.4285434427629973, 0.9416720114011518]  \n",
      "\n",
      "p: $[4.2992412432774074e-05, 0.15634767795090276, 0.3486999153665822]\n",
      "\n",
      "\n",
      "\n"
     ]
    }
   ],
   "source": [
    "\n",
    "\n",
    "print(f\"\"\"\n",
    "\n",
    "R-squared : {R_sq}\n",
    "\n",
    "adj.R-squared: {Adj_R_Sq}\n",
    "\n",
    "coef: ${regMatrix} \n",
    "\n",
    "std err: ${St_b} \n",
    "\n",
    "t: ${t_stastic}  \n",
    "\n",
    "p: ${p_values}\n",
    "\n",
    "\n",
    "\"\"\")"
   ]
  }
 ],
 "metadata": {
  "kernelspec": {
   "display_name": "Python 3",
   "language": "python",
   "name": "python3"
  },
  "language_info": {
   "codemirror_mode": {
    "name": "ipython",
    "version": 3
   },
   "file_extension": ".py",
   "mimetype": "text/x-python",
   "name": "python",
   "nbconvert_exporter": "python",
   "pygments_lexer": "ipython3",
   "version": "3.10.6"
  },
  "orig_nbformat": 4,
  "vscode": {
   "interpreter": {
    "hash": "369f2c481f4da34e4445cda3fffd2e751bd1c4d706f27375911949ba6bb62e1c"
   }
  }
 },
 "nbformat": 4,
 "nbformat_minor": 2
}
